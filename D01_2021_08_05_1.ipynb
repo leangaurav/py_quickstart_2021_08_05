{
 "cells": [
  {
   "cell_type": "code",
   "execution_count": 1,
   "id": "2ab00074",
   "metadata": {},
   "outputs": [
    {
     "data": {
      "text/plain": [
       "2"
      ]
     },
     "execution_count": 1,
     "metadata": {},
     "output_type": "execute_result"
    }
   ],
   "source": [
    "1+1"
   ]
  },
  {
   "cell_type": "code",
   "execution_count": 8,
   "id": "218e105b",
   "metadata": {},
   "outputs": [
    {
     "name": "stdout",
     "output_type": "stream",
     "text": [
      "Gaurav\n",
      "Gaurav\n"
     ]
    }
   ],
   "source": [
    "print(\"Gaurav\")\n",
    "print('Gaurav')"
   ]
  },
  {
   "cell_type": "code",
   "execution_count": null,
   "id": "48321c71",
   "metadata": {},
   "outputs": [],
   "source": [
    "# program\n",
    "- compiler: \n",
    "- interpreter: \n",
    "\n",
    "Python uses a hybrid approach (uses both compiler and interpreter) -> bytecode (like java)\n",
    "Python is an interpreted language"
   ]
  },
  {
   "cell_type": "code",
   "execution_count": null,
   "id": "5202cd3e",
   "metadata": {},
   "outputs": [],
   "source": []
  },
  {
   "cell_type": "code",
   "execution_count": null,
   "id": "71cd2203",
   "metadata": {},
   "outputs": [],
   "source": [
    "- a,b,b"
   ]
  },
  {
   "cell_type": "markdown",
   "id": "87dbee79",
   "metadata": {},
   "source": [
    "Tokens:\n",
    "- keywords: if , for, None, True, False\n",
    "- identifiers: names\n",
    "- literals: 1,2,3-1,-> integers,  1.0, -0.3333 -> float , \"Gaurav\", \"\", \" \", '' -> strings\n",
    "- operators: +, - *, /. //, %, (, )"
   ]
  },
  {
   "cell_type": "code",
   "execution_count": null,
   "id": "1f623b77",
   "metadata": {},
   "outputs": [],
   "source": []
  },
  {
   "cell_type": "code",
   "execution_count": null,
   "id": "79b2d1eb",
   "metadata": {},
   "outputs": [],
   "source": [
    "## functions\n",
    "- exit\n",
    "- print\n",
    "- dir\n",
    "- help"
   ]
  },
  {
   "cell_type": "code",
   "execution_count": null,
   "id": "16fb13bf",
   "metadata": {},
   "outputs": [],
   "source": [
    "# datatype: what operations can be done on data\n",
    "1\n",
    "1.4\n",
    "\"a\"\n",
    "''"
   ]
  },
  {
   "cell_type": "code",
   "execution_count": 13,
   "id": "1837875c",
   "metadata": {},
   "outputs": [
    {
     "name": "stdout",
     "output_type": "stream",
     "text": [
      "2\n",
      "0\n",
      "1\n",
      "1\n",
      "11\n"
     ]
    },
    {
     "ename": "TypeError",
     "evalue": "unsupported operand type(s) for -: 'str' and 'str'",
     "output_type": "error",
     "traceback": [
      "\u001b[1;31m---------------------------------------------------------------------------\u001b[0m",
      "\u001b[1;31mTypeError\u001b[0m                                 Traceback (most recent call last)",
      "\u001b[1;32m<ipython-input-13-6fe9babc3151>\u001b[0m in \u001b[0;36m<module>\u001b[1;34m\u001b[0m\n\u001b[0;32m      4\u001b[0m \u001b[0mprint\u001b[0m\u001b[1;33m(\u001b[0m\u001b[1;36m1\u001b[0m\u001b[1;33m)\u001b[0m\u001b[1;33m\u001b[0m\u001b[1;33m\u001b[0m\u001b[0m\n\u001b[0;32m      5\u001b[0m \u001b[0mprint\u001b[0m\u001b[1;33m(\u001b[0m\u001b[1;34m'1'\u001b[0m\u001b[1;33m+\u001b[0m\u001b[1;34m'1'\u001b[0m\u001b[1;33m)\u001b[0m \u001b[1;31m# concatenate\u001b[0m\u001b[1;33m\u001b[0m\u001b[1;33m\u001b[0m\u001b[0m\n\u001b[1;32m----> 6\u001b[1;33m \u001b[0mprint\u001b[0m\u001b[1;33m(\u001b[0m\u001b[1;34m'1'\u001b[0m\u001b[1;33m-\u001b[0m\u001b[1;34m'1'\u001b[0m\u001b[1;33m)\u001b[0m\u001b[1;33m\u001b[0m\u001b[1;33m\u001b[0m\u001b[0m\n\u001b[0m",
      "\u001b[1;31mTypeError\u001b[0m: unsupported operand type(s) for -: 'str' and 'str'"
     ]
    }
   ],
   "source": [
    "print(1+1)\n",
    "print(1-1)\n",
    "print('1')\n",
    "print(1)\n",
    "print('1'+'1') # concatenate\n",
    "print('1'-'1')"
   ]
  },
  {
   "cell_type": "code",
   "execution_count": null,
   "id": "a72162f9",
   "metadata": {},
   "outputs": [],
   "source": [
    "1byte -> -128 to +127\n",
    "2byte -> -32768 to +32767"
   ]
  },
  {
   "cell_type": "code",
   "execution_count": 17,
   "id": "32b4248a",
   "metadata": {},
   "outputs": [
    {
     "name": "stdout",
     "output_type": "stream",
     "text": [
      "<class 'str'>\n",
      "<class 'int'>\n",
      "140710498871376\n",
      "140710498871696\n"
     ]
    }
   ],
   "source": [
    "# dynamic typed langauge\n",
    "a = 'sfdsfdsf'\n",
    "\n",
    "print(type(a))\n",
    "a = 10\n",
    "print(type(a))\n",
    "\n",
    "print(id(a))\n",
    "a = 20\n",
    "print(id(a))"
   ]
  }
 ],
 "metadata": {
  "kernelspec": {
   "display_name": "Python 3",
   "language": "python",
   "name": "python3"
  },
  "language_info": {
   "codemirror_mode": {
    "name": "ipython",
    "version": 3
   },
   "file_extension": ".py",
   "mimetype": "text/x-python",
   "name": "python",
   "nbconvert_exporter": "python",
   "pygments_lexer": "ipython3",
   "version": "3.8.8"
  }
 },
 "nbformat": 4,
 "nbformat_minor": 5
}
