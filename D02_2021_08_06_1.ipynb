{
 "cells": [
  {
   "cell_type": "markdown",
   "id": "9cd1f1bf",
   "metadata": {},
   "source": [
    "## Datatypes"
   ]
  },
  {
   "cell_type": "code",
   "execution_count": 1,
   "id": "25e9307f",
   "metadata": {},
   "outputs": [
    {
     "name": "stdout",
     "output_type": "stream",
     "text": [
      "<class 'int'>\n",
      "<class 'float'>\n",
      "<class 'str'>\n",
      "<class 'bool'>\n"
     ]
    }
   ],
   "source": [
    "print(type(1))\n",
    "print(type(1.0))\n",
    "print(type(\"1\"))\n",
    "print(type(True))"
   ]
  },
  {
   "cell_type": "code",
   "execution_count": null,
   "id": "ef5a11de",
   "metadata": {},
   "outputs": [],
   "source": []
  },
  {
   "cell_type": "code",
   "execution_count": 2,
   "id": "0862c577",
   "metadata": {},
   "outputs": [
    {
     "name": "stdout",
     "output_type": "stream",
     "text": [
      "sfdsf\n"
     ]
    },
    {
     "data": {
      "text/plain": [
       "'sfdsf'"
      ]
     },
     "execution_count": 2,
     "metadata": {},
     "output_type": "execute_result"
    }
   ],
   "source": [
    "input()"
   ]
  },
  {
   "cell_type": "code",
   "execution_count": 7,
   "id": "46bd98dc",
   "metadata": {},
   "outputs": [
    {
     "name": "stdout",
     "output_type": "stream",
     "text": [
      "enter a number1\n",
      "enter a number2\n",
      "3\n"
     ]
    }
   ],
   "source": [
    "a = int(input('enter a number'))\n",
    "b = input('enter a number')\n",
    "b = int(b)\n",
    "print(a+b)"
   ]
  },
  {
   "cell_type": "code",
   "execution_count": 11,
   "id": "1496968b",
   "metadata": {},
   "outputs": [
    {
     "name": "stdout",
     "output_type": "stream",
     "text": [
      "Enter a number: a\n"
     ]
    },
    {
     "ename": "ValueError",
     "evalue": "invalid literal for int() with base 10: 'a'",
     "output_type": "error",
     "traceback": [
      "\u001b[1;31m---------------------------------------------------------------------------\u001b[0m",
      "\u001b[1;31mValueError\u001b[0m                                Traceback (most recent call last)",
      "\u001b[1;32m<ipython-input-11-97fe25083358>\u001b[0m in \u001b[0;36m<module>\u001b[1;34m\u001b[0m\n\u001b[0;32m      1\u001b[0m \u001b[1;31m# WAP to input 2 numbers and print their prodduct\u001b[0m\u001b[1;33m\u001b[0m\u001b[1;33m\u001b[0m\u001b[1;33m\u001b[0m\u001b[0m\n\u001b[1;32m----> 2\u001b[1;33m \u001b[0ma\u001b[0m \u001b[1;33m=\u001b[0m \u001b[0mint\u001b[0m\u001b[1;33m(\u001b[0m\u001b[0minput\u001b[0m\u001b[1;33m(\u001b[0m\u001b[1;34m\"Enter a number: \"\u001b[0m\u001b[1;33m)\u001b[0m\u001b[1;33m)\u001b[0m\u001b[1;33m\u001b[0m\u001b[1;33m\u001b[0m\u001b[0m\n\u001b[0m\u001b[0;32m      3\u001b[0m \u001b[0mb\u001b[0m \u001b[1;33m=\u001b[0m \u001b[0mint\u001b[0m\u001b[1;33m(\u001b[0m\u001b[0minput\u001b[0m\u001b[1;33m(\u001b[0m\u001b[1;34m\"Enter a number: \"\u001b[0m\u001b[1;33m)\u001b[0m\u001b[1;33m)\u001b[0m\u001b[1;33m\u001b[0m\u001b[1;33m\u001b[0m\u001b[0m\n\u001b[0;32m      4\u001b[0m \u001b[0mprint\u001b[0m\u001b[1;33m(\u001b[0m\u001b[0ma\u001b[0m \u001b[1;33m*\u001b[0m \u001b[0mb\u001b[0m\u001b[1;33m)\u001b[0m\u001b[1;33m\u001b[0m\u001b[1;33m\u001b[0m\u001b[0m\n",
      "\u001b[1;31mValueError\u001b[0m: invalid literal for int() with base 10: 'a'"
     ]
    }
   ],
   "source": [
    "# WAP to input 2 numbers and print their prodduct\n",
    "a = int(input(\"Enter a number: \"))\n",
    "b = int(input(\"Enter a number: \"))\n",
    "print(a * b)"
   ]
  },
  {
   "cell_type": "code",
   "execution_count": null,
   "id": "ad2161a8",
   "metadata": {},
   "outputs": [],
   "source": [
    "- exception\n",
    "- stack trace"
   ]
  },
  {
   "cell_type": "code",
   "execution_count": 12,
   "id": "506206fb",
   "metadata": {},
   "outputs": [
    {
     "name": "stdout",
     "output_type": "stream",
     "text": [
      "5\n",
      "6\n",
      "1.5\n",
      "1\n",
      "1\n",
      "2\n"
     ]
    }
   ],
   "source": [
    "print(3+2)\n",
    "print(3*2)\n",
    "print(3/2)\n",
    "print(3//2) # int division\n",
    "print(3%2) # modulus -> remainder\n",
    "print(2%3)"
   ]
  },
  {
   "cell_type": "code",
   "execution_count": 15,
   "id": "0a5dc549",
   "metadata": {},
   "outputs": [
    {
     "name": "stdout",
     "output_type": "stream",
     "text": [
      "['__add__', '__class__', '__contains__', '__delattr__', '__dir__', '__doc__', '__eq__', '__format__', '__ge__', '__getattribute__', '__getitem__', '__getnewargs__', '__gt__', '__hash__', '__init__', '__init_subclass__', '__iter__', '__le__', '__len__', '__lt__', '__mod__', '__mul__', '__ne__', '__new__', '__reduce__', '__reduce_ex__', '__repr__', '__rmod__', '__rmul__', '__setattr__', '__sizeof__', '__str__', '__subclasshook__', 'capitalize', 'casefold', 'center', 'count', 'encode', 'endswith', 'expandtabs', 'find', 'format', 'format_map', 'index', 'isalnum', 'isalpha', 'isascii', 'isdecimal', 'isdigit', 'isidentifier', 'islower', 'isnumeric', 'isprintable', 'isspace', 'istitle', 'isupper', 'join', 'ljust', 'lower', 'lstrip', 'maketrans', 'partition', 'replace', 'rfind', 'rindex', 'rjust', 'rpartition', 'rsplit', 'rstrip', 'split', 'splitlines', 'startswith', 'strip', 'swapcase', 'title', 'translate', 'upper', 'zfill']\n",
      "['__abs__', '__add__', '__and__', '__bool__', '__ceil__', '__class__', '__delattr__', '__dir__', '__divmod__', '__doc__', '__eq__', '__float__', '__floor__', '__floordiv__', '__format__', '__ge__', '__getattribute__', '__getnewargs__', '__gt__', '__hash__', '__index__', '__init__', '__init_subclass__', '__int__', '__invert__', '__le__', '__lshift__', '__lt__', '__mod__', '__mul__', '__ne__', '__neg__', '__new__', '__or__', '__pos__', '__pow__', '__radd__', '__rand__', '__rdivmod__', '__reduce__', '__reduce_ex__', '__repr__', '__rfloordiv__', '__rlshift__', '__rmod__', '__rmul__', '__ror__', '__round__', '__rpow__', '__rrshift__', '__rshift__', '__rsub__', '__rtruediv__', '__rxor__', '__setattr__', '__sizeof__', '__str__', '__sub__', '__subclasshook__', '__truediv__', '__trunc__', '__xor__', 'as_integer_ratio', 'bit_length', 'conjugate', 'denominator', 'from_bytes', 'imag', 'numerator', 'real', 'to_bytes']\n"
     ]
    }
   ],
   "source": [
    "print(dir(\"\"))\n",
    "print(dir(1))"
   ]
  },
  {
   "cell_type": "code",
   "execution_count": 16,
   "id": "5de8a272",
   "metadata": {},
   "outputs": [
    {
     "name": "stdout",
     "output_type": "stream",
     "text": [
      "abcd\n"
     ]
    }
   ],
   "source": [
    "s = \"abcd\"\n",
    "s.capitalize()\n",
    "print(s)"
   ]
  },
  {
   "cell_type": "code",
   "execution_count": 17,
   "id": "f0782e6d",
   "metadata": {},
   "outputs": [
    {
     "name": "stdout",
     "output_type": "stream",
     "text": [
      "abcd\n",
      "Abcd\n"
     ]
    }
   ],
   "source": [
    "# immutable\n",
    "s = \"abcd\"\n",
    "s1 = s.capitalize()\n",
    "print(s)\n",
    "print(s1)"
   ]
  },
  {
   "cell_type": "code",
   "execution_count": 18,
   "id": "c580c073",
   "metadata": {},
   "outputs": [
    {
     "name": "stdout",
     "output_type": "stream",
     "text": [
      "abcd\n",
      "ABCD\n"
     ]
    }
   ],
   "source": [
    "s = \"abcd\"\n",
    "s1 = s.upper()\n",
    "print(s)\n",
    "print(s1)"
   ]
  },
  {
   "cell_type": "code",
   "execution_count": 19,
   "id": "a00d9a9d",
   "metadata": {},
   "outputs": [
    {
     "name": "stdout",
     "output_type": "stream",
     "text": [
      "True\n",
      "False\n"
     ]
    }
   ],
   "source": [
    "print('abc'.endswith('bc'))\n",
    "print('abc'.endswith('ab'))"
   ]
  },
  {
   "cell_type": "code",
   "execution_count": 21,
   "id": "fd3e5a64",
   "metadata": {},
   "outputs": [
    {
     "name": "stdout",
     "output_type": "stream",
     "text": [
      "False\n",
      "True\n",
      "False\n"
     ]
    }
   ],
   "source": [
    "# comparison\n",
    "print(1 > 2)\n",
    "print(1 < 2)\n",
    "print(\"A\" > 'a')"
   ]
  },
  {
   "cell_type": "code",
   "execution_count": 24,
   "id": "e774ddec",
   "metadata": {},
   "outputs": [
    {
     "name": "stdout",
     "output_type": "stream",
     "text": [
      "65\n",
      "97\n",
      "66\n",
      "98\n"
     ]
    }
   ],
   "source": [
    "print(ord('A'))\n",
    "print(ord('a'))\n",
    "print(ord('B'))\n",
    "print(ord('b'))"
   ]
  },
  {
   "cell_type": "code",
   "execution_count": null,
   "id": "f824d1de",
   "metadata": {},
   "outputs": [],
   "source": [
    "- 0\n",
    "- 1"
   ]
  },
  {
   "cell_type": "code",
   "execution_count": null,
   "id": "427f968e",
   "metadata": {},
   "outputs": [],
   "source": [
    "00 - 0\n",
    "01 - 1\n",
    "10 - 2\n",
    "11 - 3"
   ]
  },
  {
   "cell_type": "code",
   "execution_count": null,
   "id": "d68d4c6f",
   "metadata": {},
   "outputs": [],
   "source": [
    "1byte = 8bits\n",
    "-128-+127 => 256"
   ]
  },
  {
   "cell_type": "code",
   "execution_count": 30,
   "id": "33a12abf",
   "metadata": {},
   "outputs": [
    {
     "name": "stdout",
     "output_type": "stream",
     "text": [
      "False\n",
      "True\n",
      "False\n",
      "False\n",
      "True\n"
     ]
    }
   ],
   "source": [
    "print(\"A\" == 'a')\n",
    "print(\"A\" == 'A')\n",
    "print(2 == 1)\n",
    "print(2 == '2')\n",
    "print(2 == 2.0)"
   ]
  },
  {
   "cell_type": "code",
   "execution_count": 33,
   "id": "5be899ed",
   "metadata": {},
   "outputs": [
    {
     "name": "stdout",
     "output_type": "stream",
     "text": [
      "Gaurav\n",
      "GauravGauravGauravGauravGauravGauravGauravGauravGauravGaurav\n"
     ]
    }
   ],
   "source": [
    "s = 'Gau'\n",
    "s = s +'rav'\n",
    "print(s)\n",
    "print(s * 10)"
   ]
  },
  {
   "cell_type": "code",
   "execution_count": 35,
   "id": "0f1246aa",
   "metadata": {},
   "outputs": [
    {
     "name": "stdout",
     "output_type": "stream",
     "text": [
      "ab\n",
      "cd\n",
      "ab\tcd\n"
     ]
    }
   ],
   "source": [
    "# escape sequences\n",
    "# start with \\\n",
    "# '\\n'\n",
    "\n",
    "print(\"ab\\ncd\") # newline\n",
    "\n",
    "print(\"ab\\tcd\") # tab"
   ]
  },
  {
   "cell_type": "code",
   "execution_count": 39,
   "id": "4bac5037",
   "metadata": {},
   "outputs": [
    {
     "name": "stdout",
     "output_type": "stream",
     "text": [
      "Enter Namegaurav\n",
      "gaurav\n",
      "gaurav\n",
      "gaurav\n",
      "gaurav\n",
      "gaurav\n",
      "gaurav\n",
      "gaurav\n",
      "gaurav\n",
      "gaurav\n",
      "gaurav\n",
      "gaurav\n",
      "gaurav\n",
      "gaurav\n",
      "gaurav\n",
      "gaurav\n",
      "gaurav\n",
      "gaurav\n",
      "gaurav\n",
      "gaurav\n",
      "gaurav\n",
      "gaurav\n",
      "gaurav\n",
      "gaurav\n",
      "gaurav\n",
      "gaurav\n",
      "gaurav\n",
      "gaurav\n",
      "gaurav\n",
      "gaurav\n",
      "gaurav\n",
      "gaurav\n",
      "gaurav\n",
      "gaurav\n",
      "gaurav\n",
      "gaurav\n",
      "gaurav\n",
      "gaurav\n",
      "gaurav\n",
      "gaurav\n",
      "gaurav\n",
      "gaurav\n",
      "gaurav\n",
      "gaurav\n",
      "gaurav\n",
      "gaurav\n",
      "gaurav\n",
      "gaurav\n",
      "gaurav\n",
      "gaurav\n",
      "gaurav\n",
      "gaurav\n",
      "gaurav\n",
      "gaurav\n",
      "gaurav\n",
      "gaurav\n",
      "gaurav\n",
      "gaurav\n",
      "gaurav\n",
      "gaurav\n",
      "gaurav\n",
      "gaurav\n",
      "gaurav\n",
      "gaurav\n",
      "gaurav\n",
      "gaurav\n",
      "gaurav\n",
      "gaurav\n",
      "gaurav\n",
      "gaurav\n",
      "gaurav\n",
      "gaurav\n",
      "gaurav\n",
      "gaurav\n",
      "gaurav\n",
      "gaurav\n",
      "gaurav\n",
      "gaurav\n",
      "gaurav\n",
      "gaurav\n",
      "gaurav\n",
      "gaurav\n",
      "gaurav\n",
      "gaurav\n",
      "gaurav\n",
      "gaurav\n",
      "gaurav\n",
      "gaurav\n",
      "gaurav\n",
      "gaurav\n",
      "gaurav\n",
      "gaurav\n",
      "gaurav\n",
      "gaurav\n",
      "gaurav\n",
      "gaurav\n",
      "gaurav\n",
      "gaurav\n",
      "gaurav\n",
      "gaurav\n",
      "gaurav\n",
      "\n"
     ]
    }
   ],
   "source": [
    "## WAP to input a name and print it 100 times on screen in separate lines \n",
    "name=input(\"Enter Name\")\n",
    "name = name + '\\n'\n",
    "print(name * 100)"
   ]
  },
  {
   "cell_type": "code",
   "execution_count": 44,
   "id": "3176588b",
   "metadata": {},
   "outputs": [
    {
     "name": "stdout",
     "output_type": "stream",
     "text": [
      "13\n",
      "13.44\n",
      "13.44\n",
      "13.44\n"
     ]
    }
   ],
   "source": [
    "print(int(13.44))\n",
    "print(float(13.44))\n",
    "print(float(\"13.44\"))\n",
    "print(\"13.44\")"
   ]
  },
  {
   "cell_type": "code",
   "execution_count": 45,
   "id": "f0a738a4",
   "metadata": {},
   "outputs": [
    {
     "data": {
      "text/plain": [
       "False"
      ]
     },
     "execution_count": 45,
     "metadata": {},
     "output_type": "execute_result"
    }
   ],
   "source": [
    "# booleans\n",
    "bool()"
   ]
  },
  {
   "cell_type": "code",
   "execution_count": 46,
   "id": "3f6f6b03",
   "metadata": {},
   "outputs": [
    {
     "data": {
      "text/plain": [
       "0"
      ]
     },
     "execution_count": 46,
     "metadata": {},
     "output_type": "execute_result"
    }
   ],
   "source": [
    "int()"
   ]
  },
  {
   "cell_type": "code",
   "execution_count": 47,
   "id": "edfa0645",
   "metadata": {},
   "outputs": [
    {
     "data": {
      "text/plain": [
       "0.0"
      ]
     },
     "execution_count": 47,
     "metadata": {},
     "output_type": "execute_result"
    }
   ],
   "source": [
    "float()"
   ]
  },
  {
   "cell_type": "code",
   "execution_count": 48,
   "id": "f2e7bf4f",
   "metadata": {},
   "outputs": [
    {
     "data": {
      "text/plain": [
       "''"
      ]
     },
     "execution_count": 48,
     "metadata": {},
     "output_type": "execute_result"
    }
   ],
   "source": [
    "str()"
   ]
  },
  {
   "cell_type": "code",
   "execution_count": 52,
   "id": "745adb69",
   "metadata": {},
   "outputs": [
    {
     "name": "stdout",
     "output_type": "stream",
     "text": [
      "False\n",
      "False\n",
      "False\n",
      "True\n",
      "True\n",
      "True\n"
     ]
    }
   ],
   "source": [
    "print(bool(0))\n",
    "print(bool(0.0))\n",
    "print(bool(''))\n",
    "print(bool(\"True\"))\n",
    "print(bool(\"False\"))\n",
    "\n",
    "# any non-zero value is True\n",
    "print(bool(-1))"
   ]
  },
  {
   "cell_type": "code",
   "execution_count": null,
   "id": "06cfa9a6",
   "metadata": {},
   "outputs": [],
   "source": []
  },
  {
   "cell_type": "code",
   "execution_count": 57,
   "id": "4d39bcbb",
   "metadata": {},
   "outputs": [
    {
     "name": "stdout",
     "output_type": "stream",
     "text": [
      "4\n",
      "a\n",
      "d\n",
      "d\n"
     ]
    }
   ],
   "source": [
    "# sequence type\n",
    "s = 'abcd'\n",
    "#    0123  -> indexes\n",
    "print(len(s)) # len is a genearal function that works with any sequence type\n",
    "print(s[0]) # indexing operator\n",
    "print(s[3]) # indexing operator\n",
    "print(s[len(s) - 1]) # indexing operator\n"
   ]
  },
  {
   "cell_type": "code",
   "execution_count": 53,
   "id": "644c440d",
   "metadata": {},
   "outputs": [
    {
     "name": "stdout",
     "output_type": "stream",
     "text": [
      "['__add__', '__class__', '__contains__', '__delattr__', '__dir__', '__doc__', '__eq__', '__format__', '__ge__', '__getattribute__', '__getitem__', '__getnewargs__', '__gt__', '__hash__', '__init__', '__init_subclass__', '__iter__', '__le__', '__len__', '__lt__', '__mod__', '__mul__', '__ne__', '__new__', '__reduce__', '__reduce_ex__', '__repr__', '__rmod__', '__rmul__', '__setattr__', '__sizeof__', '__str__', '__subclasshook__', 'capitalize', 'casefold', 'center', 'count', 'encode', 'endswith', 'expandtabs', 'find', 'format', 'format_map', 'index', 'isalnum', 'isalpha', 'isascii', 'isdecimal', 'isdigit', 'isidentifier', 'islower', 'isnumeric', 'isprintable', 'isspace', 'istitle', 'isupper', 'join', 'ljust', 'lower', 'lstrip', 'maketrans', 'partition', 'replace', 'rfind', 'rindex', 'rjust', 'rpartition', 'rsplit', 'rstrip', 'split', 'splitlines', 'startswith', 'strip', 'swapcase', 'title', 'translate', 'upper', 'zfill']\n"
     ]
    }
   ],
   "source": [
    "# strings\n",
    "print(dir(str))\n",
    "\n",
    "print()"
   ]
  },
  {
   "cell_type": "code",
   "execution_count": 61,
   "id": "8c59cb3a",
   "metadata": {},
   "outputs": [
    {
     "name": "stdout",
     "output_type": "stream",
     "text": [
      "gaurav\n",
      "r\n",
      "u\n"
     ]
    }
   ],
   "source": [
    "# WAP to input a string\n",
    "# and print the middle character\n",
    "\n",
    "# abc -> b\n",
    "# abcd -> c\n",
    "\n",
    "s = input()\n",
    "m = len(s)//2\n",
    "print(s[m])\n",
    "\n",
    "m = (len(s) - 1)//2\n",
    "print(s[m])"
   ]
  },
  {
   "cell_type": "code",
   "execution_count": null,
   "id": "9d267dbd",
   "metadata": {},
   "outputs": [],
   "source": []
  },
  {
   "cell_type": "code",
   "execution_count": 65,
   "id": "71e8249a",
   "metadata": {},
   "outputs": [
    {
     "name": "stdout",
     "output_type": "stream",
     "text": [
      "i\n",
      "a\n"
     ]
    },
    {
     "ename": "IndexError",
     "evalue": "string index out of range",
     "output_type": "error",
     "traceback": [
      "\u001b[1;31m---------------------------------------------------------------------------\u001b[0m",
      "\u001b[1;31mIndexError\u001b[0m                                Traceback (most recent call last)",
      "\u001b[1;32m<ipython-input-65-335512c15074>\u001b[0m in \u001b[0;36m<module>\u001b[1;34m\u001b[0m\n\u001b[0;32m      7\u001b[0m \u001b[0mprint\u001b[0m\u001b[1;33m(\u001b[0m\u001b[0ms\u001b[0m\u001b[1;33m[\u001b[0m\u001b[1;33m-\u001b[0m\u001b[1;36m9\u001b[0m\u001b[1;33m]\u001b[0m\u001b[1;33m)\u001b[0m\u001b[1;33m\u001b[0m\u001b[1;33m\u001b[0m\u001b[0m\n\u001b[0;32m      8\u001b[0m \u001b[1;33m\u001b[0m\u001b[0m\n\u001b[1;32m----> 9\u001b[1;33m \u001b[0mprint\u001b[0m\u001b[1;33m(\u001b[0m\u001b[0ms\u001b[0m\u001b[1;33m[\u001b[0m\u001b[1;36m10\u001b[0m\u001b[1;33m]\u001b[0m\u001b[1;33m)\u001b[0m\u001b[1;33m\u001b[0m\u001b[1;33m\u001b[0m\u001b[0m\n\u001b[0m",
      "\u001b[1;31mIndexError\u001b[0m: string index out of range"
     ]
    }
   ],
   "source": [
    "# negative indexing\n",
    "s = 'abcdefghi'\n",
    "#    012345678\n",
    "#    987654321\n",
    "\n",
    "print(s[-1])\n",
    "print(s[-9])\n",
    "\n",
    "print(s[10])\n"
   ]
  },
  {
   "cell_type": "code",
   "execution_count": 71,
   "id": "864097a4",
   "metadata": {},
   "outputs": [
    {
     "name": "stdout",
     "output_type": "stream",
     "text": [
      "defghi\n",
      "de\n",
      "abcde\n",
      "bcdef\n",
      "bcdefghi\n",
      "\n",
      "dfsf\n"
     ]
    }
   ],
   "source": [
    "# slicing\n",
    "s = 'abcdefghi'\n",
    "#    012345678\n",
    "# [start : end : step]\n",
    "print(s[3:])\n",
    "print(s[3:5])\n",
    "print(s[:5])\n",
    "print(s[1:6])\n",
    "print(s[1:60])\n",
    "print(s[20:60])\n",
    "print('dfsf')"
   ]
  },
  {
   "cell_type": "code",
   "execution_count": 78,
   "id": "310cfc95",
   "metadata": {},
   "outputs": [
    {
     "name": "stdout",
     "output_type": "stream",
     "text": [
      "acegi\n",
      "aei\n",
      "dfh\n",
      "df\n",
      "\n",
      "ihgfedcba\n",
      "Gaurav\n"
     ]
    }
   ],
   "source": [
    "# slicing\n",
    "s = 'abcdefghi'\n",
    "#    012345678\n",
    "# [start : end : step]\n",
    "print(s[::2])\n",
    "print(s[::4])\n",
    "print(s[3::2])\n",
    "print(s[3:7:2])\n",
    "\n",
    "print()\n",
    "print(s[::-1])\n",
    "print('Gaurav')"
   ]
  },
  {
   "cell_type": "code",
   "execution_count": 81,
   "id": "ab52b811",
   "metadata": {},
   "outputs": [
    {
     "name": "stdout",
     "output_type": "stream",
     "text": [
      "ABBA\n",
      "True\n"
     ]
    }
   ],
   "source": [
    "# WAP to input a string and print True  if it is a  palindrome False otherwise\n",
    "# ABA -> True\n",
    "# ABC -> False\n",
    "# AAA -> True\n",
    "# ABBA -> True\n",
    "# AbBA -> False\n",
    "\n",
    "s = input()\n",
    "r = s[::-1]\n",
    "print(s == r)"
   ]
  },
  {
   "cell_type": "code",
   "execution_count": 86,
   "id": "a6c21426",
   "metadata": {},
   "outputs": [
    {
     "name": "stdout",
     "output_type": "stream",
     "text": [
      "not equal\n",
      "else\n",
      "outside\n"
     ]
    }
   ],
   "source": [
    "# {\n",
    "# .... block\n",
    "# }\n",
    "# if (1 != 1 ){\n",
    "#     print(\"1==1\") # indentation\n",
    "#     print(\"if \")\n",
    "# }\n",
    "\n",
    "\n",
    "if 1 != 1:\n",
    "    print(\"1==1\") # indentation\n",
    "    print(\"if \")\n",
    "else:\n",
    "    print(\"not equal\")\n",
    "    print(\"else\")\n",
    "print(\"outside\")"
   ]
  },
  {
   "cell_type": "code",
   "execution_count": 91,
   "id": "87333754",
   "metadata": {},
   "outputs": [
    {
     "name": "stdout",
     "output_type": "stream",
     "text": [
      "Enter a number:50\n",
      "even\n"
     ]
    }
   ],
   "source": [
    "# WAP to input a number and print if it's even or odd\n",
    "\n",
    "n = int(input('Enter a number:'))\n",
    "\n",
    "if n%2 == 0:\n",
    "    print(\"even\")\n",
    "else:\n",
    "    print(\"odd\")"
   ]
  },
  {
   "cell_type": "code",
   "execution_count": 96,
   "id": "c5f6b1a3",
   "metadata": {},
   "outputs": [
    {
     "ename": "KeyboardInterrupt",
     "evalue": "Interrupted by user",
     "output_type": "error",
     "traceback": [
      "\u001b[1;31m---------------------------------------------------------------------------\u001b[0m",
      "\u001b[1;31mKeyboardInterrupt\u001b[0m                         Traceback (most recent call last)",
      "\u001b[1;32m<ipython-input-96-0362525f432a>\u001b[0m in \u001b[0;36m<module>\u001b[1;34m\u001b[0m\n\u001b[0;32m      1\u001b[0m \u001b[1;31m# WAP to input number and print wheater it's a multiple  of 5 or not\u001b[0m\u001b[1;33m\u001b[0m\u001b[1;33m\u001b[0m\u001b[1;33m\u001b[0m\u001b[0m\n\u001b[0;32m      2\u001b[0m \u001b[1;33m\u001b[0m\u001b[0m\n\u001b[1;32m----> 3\u001b[1;33m \u001b[0mn\u001b[0m \u001b[1;33m=\u001b[0m \u001b[0mint\u001b[0m\u001b[1;33m(\u001b[0m\u001b[0minput\u001b[0m\u001b[1;33m(\u001b[0m\u001b[1;34m'Enter a number:'\u001b[0m\u001b[1;33m)\u001b[0m\u001b[1;33m)\u001b[0m\u001b[1;33m\u001b[0m\u001b[1;33m\u001b[0m\u001b[0m\n\u001b[0m\u001b[0;32m      4\u001b[0m \u001b[1;33m\u001b[0m\u001b[0m\n\u001b[0;32m      5\u001b[0m \u001b[1;32mif\u001b[0m \u001b[0mn\u001b[0m\u001b[1;33m%\u001b[0m\u001b[1;36m5\u001b[0m \u001b[1;33m==\u001b[0m \u001b[1;36m0\u001b[0m\u001b[1;33m:\u001b[0m\u001b[1;33m\u001b[0m\u001b[1;33m\u001b[0m\u001b[0m\n",
      "\u001b[1;32mC:\\ProgramData\\Anaconda3\\lib\\site-packages\\ipykernel\\kernelbase.py\u001b[0m in \u001b[0;36mraw_input\u001b[1;34m(self, prompt)\u001b[0m\n\u001b[0;32m    858\u001b[0m                 \u001b[1;34m\"raw_input was called, but this frontend does not support input requests.\"\u001b[0m\u001b[1;33m\u001b[0m\u001b[1;33m\u001b[0m\u001b[0m\n\u001b[0;32m    859\u001b[0m             )\n\u001b[1;32m--> 860\u001b[1;33m         return self._input_request(str(prompt),\n\u001b[0m\u001b[0;32m    861\u001b[0m             \u001b[0mself\u001b[0m\u001b[1;33m.\u001b[0m\u001b[0m_parent_ident\u001b[0m\u001b[1;33m,\u001b[0m\u001b[1;33m\u001b[0m\u001b[1;33m\u001b[0m\u001b[0m\n\u001b[0;32m    862\u001b[0m             \u001b[0mself\u001b[0m\u001b[1;33m.\u001b[0m\u001b[0m_parent_header\u001b[0m\u001b[1;33m,\u001b[0m\u001b[1;33m\u001b[0m\u001b[1;33m\u001b[0m\u001b[0m\n",
      "\u001b[1;32mC:\\ProgramData\\Anaconda3\\lib\\site-packages\\ipykernel\\kernelbase.py\u001b[0m in \u001b[0;36m_input_request\u001b[1;34m(self, prompt, ident, parent, password)\u001b[0m\n\u001b[0;32m    902\u001b[0m             \u001b[1;32mexcept\u001b[0m \u001b[0mKeyboardInterrupt\u001b[0m\u001b[1;33m:\u001b[0m\u001b[1;33m\u001b[0m\u001b[1;33m\u001b[0m\u001b[0m\n\u001b[0;32m    903\u001b[0m                 \u001b[1;31m# re-raise KeyboardInterrupt, to truncate traceback\u001b[0m\u001b[1;33m\u001b[0m\u001b[1;33m\u001b[0m\u001b[1;33m\u001b[0m\u001b[0m\n\u001b[1;32m--> 904\u001b[1;33m                 \u001b[1;32mraise\u001b[0m \u001b[0mKeyboardInterrupt\u001b[0m\u001b[1;33m(\u001b[0m\u001b[1;34m\"Interrupted by user\"\u001b[0m\u001b[1;33m)\u001b[0m \u001b[1;32mfrom\u001b[0m \u001b[1;32mNone\u001b[0m\u001b[1;33m\u001b[0m\u001b[1;33m\u001b[0m\u001b[0m\n\u001b[0m\u001b[0;32m    905\u001b[0m             \u001b[1;32mexcept\u001b[0m \u001b[0mException\u001b[0m \u001b[1;32mas\u001b[0m \u001b[0me\u001b[0m\u001b[1;33m:\u001b[0m\u001b[1;33m\u001b[0m\u001b[1;33m\u001b[0m\u001b[0m\n\u001b[0;32m    906\u001b[0m                 \u001b[0mself\u001b[0m\u001b[1;33m.\u001b[0m\u001b[0mlog\u001b[0m\u001b[1;33m.\u001b[0m\u001b[0mwarning\u001b[0m\u001b[1;33m(\u001b[0m\u001b[1;34m\"Invalid Message:\"\u001b[0m\u001b[1;33m,\u001b[0m \u001b[0mexc_info\u001b[0m\u001b[1;33m=\u001b[0m\u001b[1;32mTrue\u001b[0m\u001b[1;33m)\u001b[0m\u001b[1;33m\u001b[0m\u001b[1;33m\u001b[0m\u001b[0m\n",
      "\u001b[1;31mKeyboardInterrupt\u001b[0m: Interrupted by user"
     ]
    }
   ],
   "source": [
    "# WAP to input number and print wheater it's a multiple  of 5 or not\n",
    "\n",
    "n = int(input('Enter a number:'))\n",
    "\n",
    "if n%5 == 0:\n",
    "    print(\"divisible by 5\")\n",
    "else:\n",
    "    print(\"not a multiple\")"
   ]
  }
 ],
 "metadata": {
  "kernelspec": {
   "display_name": "Python 3",
   "language": "python",
   "name": "python3"
  },
  "language_info": {
   "codemirror_mode": {
    "name": "ipython",
    "version": 3
   },
   "file_extension": ".py",
   "mimetype": "text/x-python",
   "name": "python",
   "nbconvert_exporter": "python",
   "pygments_lexer": "ipython3",
   "version": "3.8.8"
  }
 },
 "nbformat": 4,
 "nbformat_minor": 5
}
